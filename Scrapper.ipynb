{
 "cells": [
  {
   "cell_type": "code",
   "execution_count": 177,
   "id": "c504134d-d336-4283-b62f-67467e47d4d8",
   "metadata": {},
   "outputs": [],
   "source": [
    "from bs4 import BeautifulSoup\n",
    "import requests\n",
    "import pandas as pd"
   ]
  },
  {
   "cell_type": "code",
   "execution_count": 178,
   "id": "e722de84-e577-4aeb-92ef-c8bc8e6b032f",
   "metadata": {},
   "outputs": [],
   "source": [
    "# VOLLEY BALL"
   ]
  },
  {
   "cell_type": "code",
   "execution_count": 179,
   "id": "20ccd842-63ba-4e1f-9642-9f85df04265f",
   "metadata": {},
   "outputs": [],
   "source": [
    "# Brooklyn College Men’s Volleyball Team \n",
    "URL1 = \"https://www.brooklyncollegeathletics.com/sports/mens-volleyball/roster/2019\"\n",
    "page1 = requests.get(URL1)\n",
    "soup1 = BeautifulSoup( page1.content , 'html.parser')"
   ]
  },
  {
   "cell_type": "code",
   "execution_count": 180,
   "id": "141fbce8-d1c3-47e8-90c2-6fe3513553e8",
   "metadata": {
    "tags": []
   },
   "outputs": [
    {
     "name": "stdout",
     "output_type": "stream",
     "text": [
      "               Names  Height\n",
      "0      Snigdho Hasan    5.50\n",
      "1  Michael  Valentin    5.90\n",
      "2      Andres Vargas    6.00\n",
      "3     Jasper Diangco    5.10\n",
      "4    Sayuj Zachariah    6.20\n",
      "5       Omar  Rezika    6.20\n",
      "6     Gabriel Pjatak    6.30\n",
      "7       Ryan  Chabel    5.11\n",
      "8   Utku  Tanritanir    6.00\n"
     ]
    }
   ],
   "source": [
    "brooklynVolleyMenHeight=[]\n",
    "brooklynVolleyMenNames=[]\n",
    "for height in soup1.find_all( class_ = \"sidearm-roster-player-height\" ):\n",
    "    try:\n",
    "        num=height.contents[0].split(\"'\")[0]\n",
    "        frac=height.contents[0].split(\"'\")[1].replace('\"','')\n",
    "        brooklynVolleyMenHeight.append(float(f'{num}.{frac}'))\n",
    "    except:\n",
    "        pass\n",
    "    \n",
    "names=soup1.find_all(class_=\"sidearm-roster-player-name\")\n",
    "for name in names:\n",
    "    try:\n",
    "        player_name=name.h3.a.contents\n",
    "        brooklynVolleyMenNames.append(player_name[0])\n",
    "    except:\n",
    "        pass\n",
    "brooklynVolleyMen=list(zip(brooklynVolleyMenNames,brooklynVolleyMenHeight))\n",
    "\n",
    "dfBrooklynVolleyMen = pd.DataFrame (brooklynVolleyMen, columns = ['Names','Height']) \n",
    "print(dfBrooklynVolleyMen)"
   ]
  },
  {
   "cell_type": "code",
   "execution_count": 181,
   "id": "bf50ab76-7d2e-4632-8b16-31615ef8119c",
   "metadata": {},
   "outputs": [],
   "source": [
    "# Brooklyn College Women’s Volleyball Team \n",
    "URL2 = \"https://www.brooklyncollegeathletics.com/sports/womens-volleyball/roster/2019\"\n",
    "page2 = requests.get(URL2)\n",
    "soup2 = BeautifulSoup( page2.content , 'html.parser')"
   ]
  },
  {
   "cell_type": "code",
   "execution_count": 182,
   "id": "5a0d79a3-f86b-4296-89cd-5f6a6dc3ef28",
   "metadata": {
    "tags": []
   },
   "outputs": [
    {
     "name": "stdout",
     "output_type": "stream",
     "text": [
      "                       Names  Height\n",
      "0             Inesa Shimcani    5.50\n",
      "1                Ashley Fung    5.70\n",
      "2                 Rain Zhang    5.60\n",
      "3        Yana Shaposhnikova     5.30\n",
      "4                 Ezri  Shor    5.50\n",
      "5              Madison Cronk    5.11\n",
      "6                 Laurie Lee    5.20\n",
      "7           Nohelia  Cedeno     5.80\n",
      "8             Alejandra Chen    5.70\n",
      "9   Savanna Koutsakis-Keener    5.10\n",
      "10            Alanis Guinada    5.40\n",
      "11     Megan Ortiz-Mengedoht    5.10\n",
      "12              Kate Meltsin    5.40\n"
     ]
    }
   ],
   "source": [
    "brooklynVolleyWomenHeight=[]\n",
    "brooklynVolleyWomenNames=[]\n",
    "for height in soup2.find_all( class_ = \"sidearm-roster-player-height\" ):\n",
    "    try:\n",
    "        num=height.contents[0].split(\"'\")[0]\n",
    "        frac=height.contents[0].split(\"'\")[1].replace('\"','')\n",
    "        brooklynVolleyWomenHeight.append(float(f'{num}.{frac}'))\n",
    "    except:\n",
    "        pass\n",
    "    \n",
    "names=soup2.find_all(class_=\"sidearm-roster-player-name\")\n",
    "for name in names:\n",
    "    try:\n",
    "        player_name=name.h3.a.contents\n",
    "        brooklynVolleyWomenNames.append(player_name[0])\n",
    "    except:\n",
    "        pass\n",
    "brooklynVolleyWomen=list(zip(brooklynVolleyWomenNames,brooklynVolleyWomenHeight))\n",
    "\n",
    "dfBrooklynVolleyWomen = pd.DataFrame (brooklynVolleyWomen, columns = ['Names','Height']) \n",
    "print(dfBrooklynVolleyWomen)"
   ]
  },
  {
   "cell_type": "code",
   "execution_count": 183,
   "id": "3bfb5a4b-513f-4961-8eb9-dff898ce27e2",
   "metadata": {},
   "outputs": [],
   "source": [
    "# Baruch College Men’s Volleyball Team\n",
    "URL3 = \"https://athletics.baruch.cuny.edu/sports/mens-volleyball/roster\"\n",
    "page3 = requests.get(URL3)\n",
    "soup3 = BeautifulSoup( page3.content , 'html.parser')"
   ]
  },
  {
   "cell_type": "code",
   "execution_count": 184,
   "id": "b1c28b45-3ce8-4ce1-a9fe-66627b18de25",
   "metadata": {
    "tags": []
   },
   "outputs": [
    {
     "name": "stdout",
     "output_type": "stream",
     "text": [
      "                  Names  Height\n",
      "0            QiQin Zeng     5.9\n",
      "1       Andrew Tsororos     6.4\n",
      "2          Steven Lopez     6.0\n",
      "3          Sonam Dorjee     5.1\n",
      "4       Edward Grinberg     6.2\n",
      "5       David Sirchenko     6.3\n",
      "6      Stallone Shankar     6.0\n",
      "7   Rabsang Andrugtsang     5.1\n",
      "8            Hanbin Lee     5.9\n",
      "9          Artem Zinkin     6.5\n",
      "10      Michael Higgins     6.4\n",
      "11     Carlos Rodriguez     6.4\n",
      "12     Leon Petrovitsky     6.5\n",
      "13           Defeng Han     6.1\n",
      "14           Evan Takos     6.3\n",
      "15        Meni Musheyev     6.3\n",
      "16      Justin Iloulian     6.2\n"
     ]
    }
   ],
   "source": [
    "baruchVolleyMenHeight=[]\n",
    "baruchVolleyMenNames=[]\n",
    "for height in soup3.find_all( class_ = \"sidearm-roster-player-height\" ):\n",
    "    try:\n",
    "        num=height.contents[0].split(\"'\")[0]\n",
    "        frac=height.contents[0].split(\"'\")[1].replace('\"','')\n",
    "        baruchVolleyMenHeight.append(float(f'{num}.{frac}'))\n",
    "    except:\n",
    "        pass\n",
    "    \n",
    "names=soup3.find_all(class_=\"sidearm-roster-player-name\")\n",
    "for name in names:\n",
    "    try:\n",
    "        player_name=name.h3.a.contents\n",
    "        baruchVolleyMenNames.append(player_name[0])\n",
    "    except:\n",
    "        pass\n",
    "baruchVolleyMen=list(zip(baruchVolleyMenNames,baruchVolleyMenHeight))\n",
    "\n",
    "dfBaruchVolleyMen = pd.DataFrame (baruchVolleyMen, columns = ['Names','Height']) \n",
    "print(dfBaruchVolleyMen)"
   ]
  },
  {
   "cell_type": "code",
   "execution_count": 185,
   "id": "425b9c78-7545-4f86-9ac4-cc7e4701819a",
   "metadata": {},
   "outputs": [],
   "source": [
    "# Baruch College Women’s Volleyball Team \n",
    "URL4 = \"https://athletics.baruch.cuny.edu/sports/womens-volleyball/roster\"\n",
    "page4 = requests.get(URL4)\n",
    "soup4 = BeautifulSoup( page4.content , 'html.parser')"
   ]
  },
  {
   "cell_type": "code",
   "execution_count": 186,
   "id": "6032a5e7-d6e2-4307-bb29-7c2d41ea8b68",
   "metadata": {
    "tags": []
   },
   "outputs": [
    {
     "name": "stdout",
     "output_type": "stream",
     "text": [
      "                  Names  Height\n",
      "0       Fernanda Zamora     5.4\n",
      "1       Mariely Taveras     5.7\n",
      "2       Amina Muminovic     5.6\n",
      "3       Isabella Doring     5.7\n",
      "4           Sarah Chung     5.6\n",
      "5           Young Gi Go     5.0\n",
      "6       Anesa Feratovic     5.8\n",
      "7             Sofia Tam     5.2\n",
      "8       Julia Perkowski     6.0\n",
      "9        Minami Ebihara     5.3\n",
      "10              Ada Cao     5.6\n",
      "11  Jaylen Herchenroder     5.3\n"
     ]
    }
   ],
   "source": [
    "baruchVolleyWomenHeight=[]\n",
    "baruchVolleyWomenNames=[]\n",
    "for height in soup4.find_all( class_ = \"sidearm-roster-player-height\" ):\n",
    "    try:\n",
    "        num=height.contents[0].split(\"'\")[0]\n",
    "        frac=height.contents[0].split(\"'\")[1].replace('\"','')\n",
    "        baruchVolleyWomenHeight.append(float(f'{num}.{frac}'))\n",
    "    except:\n",
    "        pass\n",
    "    \n",
    "names=soup4.find_all(class_=\"sidearm-roster-player-name\")\n",
    "for name in names:\n",
    "    try:\n",
    "        player_name=name.h3.a.contents\n",
    "        baruchVolleyWomenNames.append(player_name[0])\n",
    "    except:\n",
    "        pass\n",
    "baruchVolleyWomen=list(zip(baruchVolleyWomenNames,baruchVolleyWomenHeight))\n",
    "\n",
    "dfBaruchVolleyWomen = pd.DataFrame (baruchVolleyWomen, columns = ['Names','Height']) \n",
    "print(dfBaruchVolleyWomen)"
   ]
  },
  {
   "cell_type": "code",
   "execution_count": 187,
   "id": "db0ba1af-7207-4906-b879-895d1d6ed82c",
   "metadata": {
    "tags": []
   },
   "outputs": [],
   "source": [
    "# York College Men’s Volleyball Team\n",
    "URL5 = \"https://yorkathletics.com/sports/mens-volleyball/roster\"\n",
    "page5 = requests.get(URL5)\n",
    "soup5 = BeautifulSoup( page5.content , 'html.parser')"
   ]
  },
  {
   "cell_type": "code",
   "execution_count": 188,
   "id": "bb04daa5-a879-4365-b5cb-49334b8e9970",
   "metadata": {
    "tags": []
   },
   "outputs": [
    {
     "name": "stdout",
     "output_type": "stream",
     "text": [
      "                   Names  Height\n",
      "0             John Vitor     5.6\n",
      "1         Juan Rodriguez     5.6\n",
      "2           Shawn Nemoto     5.7\n",
      "3           Erick Ortega     5.8\n",
      "4            Akil Vaughn     6.5\n",
      "5            Justin Saji     5.1\n",
      "6      Jayden Deokinanan     5.4\n",
      "7        Mambe Koureissi     6.4\n",
      "8   Anthony Nazario, Jr.     5.9\n",
      "9           Olawale Kila     6.4\n",
      "10   David Heyliger, Jr.     6.1\n",
      "11   Guillermo Hernandez     6.4\n",
      "12     Fatmir Glavatovic     6.0\n",
      "13        Ti’Juan Boothe     5.8\n"
     ]
    }
   ],
   "source": [
    "yorkVolleyMenHeight=[]\n",
    "yorkVolleyMenNames=[]\n",
    "for height in soup5.find_all( class_ = \"height\" ):\n",
    "    try:\n",
    "        num=height.contents[0].split(\"-\")[0]\n",
    "        frac=height.contents[0].split(\"-\")[1]\n",
    "        yorkVolleyMenHeight.append(float(f'{num}.{frac}'))\n",
    "    except:\n",
    "        pass\n",
    "    \n",
    "    \n",
    "names=soup5.find_all(class_=\"sidearm-table-player-name\")\n",
    "for name in names:\n",
    "    try:\n",
    "        yorkVolleyMenNames.append(name.contents[1].contents[0])\n",
    "    except:\n",
    "        pass\n",
    "yorkVolleyMen=list(zip(yorkVolleyMenNames,yorkVolleyMenHeight))\n",
    "\n",
    "dfYorkVolleyMen = pd.DataFrame (yorkVolleyMen, columns = ['Names','Height']) \n",
    "print(dfYorkVolleyMen)"
   ]
  },
  {
   "cell_type": "code",
   "execution_count": 189,
   "id": "1da8d885-6a1a-4299-9fd2-120a0245b5c7",
   "metadata": {
    "tags": []
   },
   "outputs": [],
   "source": [
    "# John Jay College Women’s Volleyball Team\n",
    "URL6 = \"https://johnjayathletics.com/sports/womens-volleyball/roster\"\n",
    "page6 = requests.get(URL6)\n",
    "soup6 = BeautifulSoup( page6.content , 'html.parser')"
   ]
  },
  {
   "cell_type": "code",
   "execution_count": 190,
   "id": "e94f71dc-534c-4fbe-aede-bcb5b1f549c8",
   "metadata": {
    "tags": []
   },
   "outputs": [
    {
     "name": "stdout",
     "output_type": "stream",
     "text": [
      "                Names  Height\n",
      "0         Taylor Hunt     5.1\n",
      "1        Amanda Marte     5.7\n",
      "2        Reilly Catan     5.8\n",
      "3        Meghan Smith     5.8\n",
      "4         Faith Harer     6.0\n",
      "5      Paige Sadowitz     6.2\n",
      "6        Rylea Sandel     6.0\n",
      "7     Arnela Radoncic     5.9\n",
      "8    Kristin Gretener     5.6\n",
      "9     Aniko Ouwendijk     5.8\n",
      "10    Gabriella Sloan     5.1\n",
      "11         Erika Hoti     5.8\n",
      "12    Johnelle Pierre     6.1\n",
      "13  Catharine Fleming     5.9\n"
     ]
    }
   ],
   "source": [
    "johnjayVolleyWomenHeight=[]\n",
    "johnjayVolleyWomenNames=[]\n",
    "for height in soup6.find_all( class_ = \"sidearm-roster-player-height\" ):\n",
    "    try:\n",
    "        num=height.contents[0].split(\"'\")[0]\n",
    "        frac=height.contents[0].split(\"'\")[1].replace('\"','')\n",
    "        johnjayVolleyWomenHeight.append(float(f'{num}.{frac}'))\n",
    "    except:\n",
    "        pass\n",
    "    \n",
    "names=soup6.find_all(class_=\"sidearm-roster-player-name\")\n",
    "for name in names:\n",
    "    try:\n",
    "        player_name=name.h3.a.contents\n",
    "        johnjayVolleyWomenNames.append(player_name[0])\n",
    "    except:\n",
    "        pass\n",
    "johnjayVolleyWomen=list(zip(johnjayVolleyWomenNames,johnjayVolleyWomenHeight))\n",
    "\n",
    "dfJohnjayVolleyWomen = pd.DataFrame (johnjayVolleyWomen, columns = ['Names','Height']) \n",
    "print(dfJohnjayVolleyWomen)"
   ]
  },
  {
   "cell_type": "code",
   "execution_count": 191,
   "id": "df488ea4-046d-4d8f-90f6-c551f95360ea",
   "metadata": {},
   "outputs": [
    {
     "name": "stdout",
     "output_type": "stream",
     "text": [
      "                   Names  Height\n",
      "0          Snigdho Hasan    5.50\n",
      "1      Michael  Valentin    5.90\n",
      "2          Andres Vargas    6.00\n",
      "3         Jasper Diangco    5.10\n",
      "4        Sayuj Zachariah    6.20\n",
      "5           Omar  Rezika    6.20\n",
      "6         Gabriel Pjatak    6.30\n",
      "7           Ryan  Chabel    5.11\n",
      "8       Utku  Tanritanir    6.00\n",
      "0             QiQin Zeng    5.90\n",
      "1        Andrew Tsororos    6.40\n",
      "2           Steven Lopez    6.00\n",
      "3           Sonam Dorjee    5.10\n",
      "4        Edward Grinberg    6.20\n",
      "5        David Sirchenko    6.30\n",
      "6       Stallone Shankar    6.00\n",
      "7    Rabsang Andrugtsang    5.10\n",
      "8             Hanbin Lee    5.90\n",
      "9           Artem Zinkin    6.50\n",
      "10       Michael Higgins    6.40\n",
      "11      Carlos Rodriguez    6.40\n",
      "12      Leon Petrovitsky    6.50\n",
      "13            Defeng Han    6.10\n",
      "14            Evan Takos    6.30\n",
      "15         Meni Musheyev    6.30\n",
      "16       Justin Iloulian    6.20\n",
      "0             John Vitor    5.60\n",
      "1         Juan Rodriguez    5.60\n",
      "2           Shawn Nemoto    5.70\n",
      "3           Erick Ortega    5.80\n",
      "4            Akil Vaughn    6.50\n",
      "5            Justin Saji    5.10\n",
      "6      Jayden Deokinanan    5.40\n",
      "7        Mambe Koureissi    6.40\n",
      "8   Anthony Nazario, Jr.    5.90\n",
      "9           Olawale Kila    6.40\n",
      "10   David Heyliger, Jr.    6.10\n",
      "11   Guillermo Hernandez    6.40\n",
      "12     Fatmir Glavatovic    6.00\n",
      "13        Ti’Juan Boothe    5.80\n"
     ]
    }
   ],
   "source": []
  },
  {
   "cell_type": "code",
   "execution_count": 208,
   "id": "935fb4fb-d7ce-425f-b6fa-7783fbf91abd",
   "metadata": {},
   "outputs": [
    {
     "data": {
      "text/plain": [
       "Height    5.96525\n",
       "dtype: float64"
      ]
     },
     "execution_count": 208,
     "metadata": {},
     "output_type": "execute_result"
    }
   ],
   "source": []
  },
  {
   "cell_type": "code",
   "execution_count": 192,
   "id": "0b51197e-7645-4956-92f8-43db4f6ea969",
   "metadata": {},
   "outputs": [
    {
     "name": "stdout",
     "output_type": "stream",
     "text": [
      "                       Names  Height\n",
      "0             Inesa Shimcani    5.50\n",
      "1                Ashley Fung    5.70\n",
      "2                 Rain Zhang    5.60\n",
      "3        Yana Shaposhnikova     5.30\n",
      "4                 Ezri  Shor    5.50\n",
      "5              Madison Cronk    5.11\n",
      "6                 Laurie Lee    5.20\n",
      "7           Nohelia  Cedeno     5.80\n",
      "8             Alejandra Chen    5.70\n",
      "9   Savanna Koutsakis-Keener    5.10\n",
      "10            Alanis Guinada    5.40\n",
      "11     Megan Ortiz-Mengedoht    5.10\n",
      "12              Kate Meltsin    5.40\n",
      "0            Fernanda Zamora    5.40\n",
      "1            Mariely Taveras    5.70\n",
      "2            Amina Muminovic    5.60\n",
      "3            Isabella Doring    5.70\n",
      "4                Sarah Chung    5.60\n",
      "5                Young Gi Go    5.00\n",
      "6            Anesa Feratovic    5.80\n",
      "7                  Sofia Tam    5.20\n",
      "8            Julia Perkowski    6.00\n",
      "9             Minami Ebihara    5.30\n",
      "10                   Ada Cao    5.60\n",
      "11       Jaylen Herchenroder    5.30\n",
      "0                Taylor Hunt    5.10\n",
      "1               Amanda Marte    5.70\n",
      "2               Reilly Catan    5.80\n",
      "3               Meghan Smith    5.80\n",
      "4                Faith Harer    6.00\n",
      "5             Paige Sadowitz    6.20\n",
      "6               Rylea Sandel    6.00\n",
      "7            Arnela Radoncic    5.90\n",
      "8           Kristin Gretener    5.60\n",
      "9            Aniko Ouwendijk    5.80\n",
      "10           Gabriella Sloan    5.10\n",
      "11                Erika Hoti    5.80\n",
      "12           Johnelle Pierre    6.10\n",
      "13         Catharine Fleming    5.90\n"
     ]
    }
   ],
   "source": [
    "\n"
   ]
  },
  {
   "cell_type": "code",
   "execution_count": 209,
   "id": "76769053-6899-4edf-bfa3-f1dabc9d0f84",
   "metadata": {},
   "outputs": [
    {
     "data": {
      "text/plain": [
       "Height    5.574615\n",
       "dtype: float64"
      ]
     },
     "execution_count": 209,
     "metadata": {},
     "output_type": "execute_result"
    }
   ],
   "source": []
  },
  {
   "cell_type": "code",
   "execution_count": 193,
   "id": "c15a8c29-5e98-4789-8f7a-f2b32f21d9cf",
   "metadata": {},
   "outputs": [],
   "source": [
    "# Swimming"
   ]
  },
  {
   "cell_type": "code",
   "execution_count": 194,
   "id": "4879fdd5-1f81-420f-a05e-3d102042060a",
   "metadata": {},
   "outputs": [],
   "source": [
    "# Brooklyn College Men’s Volleyball Team \n",
    "URL7 = \"https://www.brooklyncollegeathletics.com/sports/mens-swimming-and-diving/roster\"\n",
    "page7 = requests.get(URL7)\n",
    "soup7 = BeautifulSoup( page7.content , 'html.parser')"
   ]
  },
  {
   "cell_type": "code",
   "execution_count": 195,
   "id": "0003c5f2-8fad-4517-8523-b384a967280d",
   "metadata": {
    "tags": []
   },
   "outputs": [
    {
     "name": "stdout",
     "output_type": "stream",
     "text": [
      "                 Names  Height\n",
      "0      Ronaldo Barrios    6.20\n",
      "1         Devin Boodha    5.90\n",
      "2         Nikita  Cary    5.80\n",
      "3             Alec Chi    5.10\n",
      "4          Peter Ebert    6.20\n",
      "5      Andwele Estwick    5.11\n",
      "6    Omar Hasan- Hafez    6.10\n",
      "7      Christian Hoyek    6.00\n",
      "8   Konstantin Lomeyko    5.80\n",
      "9      Mark  MacEachen    6.40\n",
      "10          James Rupa    5.10\n",
      "11  Akmalijon Salimov     5.90\n"
     ]
    }
   ],
   "source": [
    "brooklynSwimmingMenNames=[]\n",
    "brooklynSwimmingMenHeight=[]\n",
    "\n",
    "for height in soup7.find_all( class_ = \"sidearm-roster-player-height\" ):\n",
    "    try:\n",
    "        num=height.contents[0].split(\"'\")[0]\n",
    "        frac=height.contents[0].split(\"'\")[1].replace('\"','')\n",
    "        brooklynSwimmingMenHeight.append(float(f'{num}.{frac}'))\n",
    "    except:\n",
    "        pass\n",
    "    \n",
    "names=soup7.find_all(class_=\"sidearm-roster-player-name\")\n",
    "for name in names:\n",
    "    try:\n",
    "        player_name=name.h3.a.contents\n",
    "        brooklynSwimmingMenNames.append(player_name[0])\n",
    "    except:\n",
    "        pass\n",
    "brooklynSwimmingMen=list(zip(brooklynSwimmingMenNames,brooklynSwimmingMenHeight))\n",
    "\n",
    "dfBrooklynSwimmingMen = pd.DataFrame (brooklynSwimmingMen, columns = ['Names','Height']) \n",
    "print(dfBrooklynSwimmingMen)"
   ]
  },
  {
   "cell_type": "code",
   "execution_count": 196,
   "id": "141cd654-929d-48ec-bef1-e506fda90d44",
   "metadata": {},
   "outputs": [],
   "source": [
    "# Brooklyn College Women’s Swimming Team\n",
    "URL8 = \"https://www.brooklyncollegeathletics.com/sports/womens-swimming-and-diving/roster\"\n",
    "page8 = requests.get(URL8)\n",
    "soup8 = BeautifulSoup( page8.content , 'html.parser')"
   ]
  },
  {
   "cell_type": "code",
   "execution_count": 197,
   "id": "7c582a22-4107-4dc0-a810-478c5279a8aa",
   "metadata": {},
   "outputs": [
    {
     "name": "stdout",
     "output_type": "stream",
     "text": [
      "                  Names  Height\n",
      "0        Semona Bardman    5.60\n",
      "1  Angella  Christopher    5.70\n",
      "2           Anna Curran    5.30\n",
      "3    Rachel  Davidovich    5.40\n",
      "4   Shenaika Eliassaint    5.11\n",
      "5          Julie  Huang    5.10\n",
      "6      Natalia Mrzyglod    5.50\n",
      "7        Stella  Ryklis    5.60\n",
      "8         Alyssa Taylor    5.90\n",
      "9           Emily  Yang    5.20\n"
     ]
    }
   ],
   "source": [
    "brooklynSwimmingWomenNames=[]\n",
    "brooklynSwimmingWomenHeight=[]\n",
    "\n",
    "for height in soup8.find_all( class_ = \"sidearm-roster-player-height\" ):\n",
    "    try:\n",
    "        num=height.contents[0].split(\"'\")[0]\n",
    "        frac=height.contents[0].split(\"'\")[1].replace('\"','')\n",
    "        brooklynSwimmingWomenHeight.append(float(f'{num}.{frac}'))\n",
    "    except:\n",
    "        pass\n",
    "    \n",
    "names=soup8.find_all(class_=\"sidearm-roster-player-name\")\n",
    "for name in names:\n",
    "    try:\n",
    "        player_name=name.h3.a.contents\n",
    "        brooklynSwimmingWomenNames.append(player_name[0])\n",
    "    except:\n",
    "        pass\n",
    "brooklynSwimmingWomen=list(zip(brooklynSwimmingWomenNames,brooklynSwimmingWomenHeight))\n",
    "\n",
    "dfBrooklynSwimmingWomen = pd.DataFrame (brooklynSwimmingWomen, columns = ['Names','Height']) \n",
    "print(dfBrooklynSwimmingWomen)"
   ]
  },
  {
   "cell_type": "code",
   "execution_count": 198,
   "id": "53726a6c-ed04-4f0c-be36-c9db34d19e1f",
   "metadata": {
    "tags": []
   },
   "outputs": [],
   "source": [
    "# Baruch College Men’s Swimming Team \n",
    "page9 = requests.get(\"https://athletics.baruch.cuny.edu/sports/mens-swimming-and-diving/roster\")\n",
    "soup9 = BeautifulSoup( page9.content , 'html.parser')"
   ]
  },
  {
   "cell_type": "code",
   "execution_count": 199,
   "id": "4a8087df-71d4-4a14-83bc-e910b175b534",
   "metadata": {},
   "outputs": [
    {
     "name": "stdout",
     "output_type": "stream",
     "text": [
      "                 Names  Height\n",
      "0        Yair Barrera     5.10\n",
      "1     Nicholas  Blanco    5.11\n",
      "2           Kevin Chen    5.90\n",
      "3     Yousef  Elkhouly    6.30\n",
      "4         Kasper Gacek    6.50\n",
      "5         Gent Gazheli    6.00\n",
      "6          Abdul  Khan    6.20\n",
      "7   Fernando Marroquin    5.80\n",
      "8       Eli Mogorichev    6.00\n",
      "9     Dayan  Ordabayev    5.10\n",
      "10       Jack Ousmanov    6.00\n",
      "11        William Rose    6.20\n",
      "12      Levon Safaryan    5.11\n",
      "13          Ben Sionov    5.60\n",
      "14      Samuel Yakubov    5.80\n"
     ]
    }
   ],
   "source": [
    "baruchSwimmingMenNames=[]\n",
    "baruchSwimmingMenHeight=[]\n",
    "\n",
    "for height in soup9.find_all( class_ = \"sidearm-roster-player-height\" ):\n",
    "    try:\n",
    "        num=height.contents[0].split(\"'\")[0]\n",
    "        frac=height.contents[0].split(\"'\")[1].replace('\"','')\n",
    "        baruchSwimmingMenHeight.append(float(f'{num}.{frac}'))\n",
    "    except:\n",
    "        pass\n",
    "    \n",
    "names=soup9.find_all(class_=\"sidearm-roster-player-name\")\n",
    "for name in names:\n",
    "    try:\n",
    "        player_name=name.h3.a.contents\n",
    "        baruchSwimmingMenNames.append(player_name[0])\n",
    "    except:\n",
    "        pass\n",
    "baruchSwimmingMen=list(zip(baruchSwimmingMenNames,baruchSwimmingMenHeight))\n",
    "\n",
    "dfBaruchSwimmingMen = pd.DataFrame (baruchSwimmingMen, columns = ['Names','Height']) \n",
    "print(dfBaruchSwimmingMen)"
   ]
  },
  {
   "cell_type": "code",
   "execution_count": 200,
   "id": "a9273f78-5cfe-4ff2-921a-9eb0a92d5182",
   "metadata": {
    "tags": []
   },
   "outputs": [],
   "source": [
    "# -Baruch College Women’s Swimming Team \n",
    "page10 = requests.get(\"https://athletics.baruch.cuny.edu/sports/womens-swimming-and-diving/roster\")\n",
    "soup10 = BeautifulSoup( page10.content , 'html.parser')"
   ]
  },
  {
   "cell_type": "code",
   "execution_count": 201,
   "id": "815fcee7-048b-40a4-8eb0-d2720688367b",
   "metadata": {},
   "outputs": [
    {
     "name": "stdout",
     "output_type": "stream",
     "text": [
      "               Names  Height\n",
      "0  Scarlet Astudillo     5.4\n",
      "1     Maria  Fuentes     5.4\n",
      "2  Joscelyn  Galindo     5.3\n",
      "3        Dea Gazheli     5.3\n",
      "4         Amanda Lee     5.1\n",
      "5      Katherine Lee     5.2\n",
      "6      Jillian Quinn     5.5\n",
      "7       Aanya Shukul     5.9\n",
      "8   Nicole  Tarasiuk     5.7\n",
      "9        Joyce  Wong     5.4\n"
     ]
    }
   ],
   "source": [
    "baruchSwimmingWomenNames=[]\n",
    "baruchSwimmingWomenHeight=[]\n",
    "\n",
    "for height in soup10.find_all( class_ = \"sidearm-roster-player-height\" ):\n",
    "    try:\n",
    "        num=height.contents[0].split(\"'\")[0]\n",
    "        frac=height.contents[0].split(\"'\")[1].replace('\"','')\n",
    "        baruchSwimmingWomenHeight.append(float(f'{num}.{frac}'))\n",
    "    except:\n",
    "        pass\n",
    "    \n",
    "names=soup10.find_all(class_=\"sidearm-roster-player-name\")\n",
    "for name in names:\n",
    "    try:\n",
    "        player_name=name.h3.a.contents\n",
    "        baruchSwimmingWomenNames.append(player_name[0])\n",
    "    except:\n",
    "        pass\n",
    "baruchSwimmingWomen=list(zip(baruchSwimmingWomenNames,baruchSwimmingWomenHeight))\n",
    "\n",
    "dfBaruchSwimmingWomen = pd.DataFrame (baruchSwimmingWomen, columns = ['Names','Height']) \n",
    "print(dfBaruchSwimmingWomen)"
   ]
  },
  {
   "cell_type": "code",
   "execution_count": 202,
   "id": "3b6aa71f-97d1-4681-88fa-bb068b9f9931",
   "metadata": {
    "tags": []
   },
   "outputs": [],
   "source": [
    "# -York College Men’s Swimming Team \n",
    "page11 = requests.get(\"https://yorkathletics.com/sports/mens-swimming-and-diving/roster\")\n",
    "soup11 = BeautifulSoup( page11.content , 'html.parser')"
   ]
  },
  {
   "cell_type": "code",
   "execution_count": 203,
   "id": "86da5803-74a7-4b37-915c-33ea7df55667",
   "metadata": {},
   "outputs": [
    {
     "name": "stdout",
     "output_type": "stream",
     "text": [
      "                  Names  Height\n",
      "0        Ti’Juan Boothe    5.10\n",
      "1       Jaquan Eleazard    5.11\n",
      "2       Arafath Hussain    5.90\n",
      "3        Anthony Jordan    6.30\n",
      "4       Antonio Josephs    6.50\n",
      "5    Christopher Mendez    6.00\n",
      "6  Anthony Nazario, Jr.    6.20\n",
      "7          Jeremy Sapeg    5.80\n",
      "8         Jamaar Watson    6.00\n",
      "9           Alex Winter    5.10\n"
     ]
    }
   ],
   "source": [
    "yorkSwimmingMenHeight=[]\n",
    "yorkSwimmingMenNames=[]\n",
    "for height in soup11.find_all( class_ = \"height\" ):\n",
    "    try:\n",
    "        num=height.contents[0].split(\"-\")[0]\n",
    "        frac=height.contents[0].split(\"-\")[1]\n",
    "        yorkVolleyMenHeight.append(float(f'{num}.{frac}'))\n",
    "    except:\n",
    "        pass\n",
    "    \n",
    "    \n",
    "names=soup11.find_all(class_=\"sidearm-table-player-name\")\n",
    "for name in names:\n",
    "    try:\n",
    "        yorkSwimmingMenNames.append(name.contents[1].contents[0])\n",
    "    except:\n",
    "        pass\n",
    "yorkSwimmingMen=list(zip(yorkSwimmingMenNames,baruchSwimmingMenHeight))\n",
    "\n",
    "dfYorkSwimmingMen = pd.DataFrame (yorkSwimmingMen, columns = ['Names','Height']) \n",
    "print(dfYorkSwimmingMen)"
   ]
  },
  {
   "cell_type": "code",
   "execution_count": 204,
   "id": "87c9ac01-d328-4779-b881-5981b1680ed3",
   "metadata": {
    "tags": []
   },
   "outputs": [],
   "source": [
    "# Queens College Women’s Swimming Team \n",
    "page12 = requests.get(\"https://queensknights.com/sports/womens-swimming-and-diving/roster\")\n",
    "soup12 = BeautifulSoup( page12.content , 'html.parser')"
   ]
  },
  {
   "cell_type": "code",
   "execution_count": 205,
   "id": "234aad76-5756-4ec1-b0a0-e1316af910ed",
   "metadata": {},
   "outputs": [
    {
     "name": "stdout",
     "output_type": "stream",
     "text": [
      "                Names  Height\n",
      "0   Rupakshi Aggarwal    5.10\n",
      "1          Asha Besaw    5.40\n",
      "2           Rory Chea    5.30\n",
      "3      Claudia Cimino    5.60\n",
      "4  Laura Cruz Rosario    5.30\n",
      "5     Natalia Cuttler    5.10\n",
      "6       Jillian Etnel    5.80\n",
      "7      Kristen Flores    5.90\n",
      "8         Alexis Hall    5.20\n",
      "9        Bianca Hiltz    4.11\n"
     ]
    }
   ],
   "source": [
    "QueensSwimmingWomenHeight=[]\n",
    "QueensSwimmingWomenNames=[]\n",
    "for height in soup12.find_all( class_ = \"height\" ):\n",
    "    try:\n",
    "        num=height.contents[0].split(\"-\")[0]\n",
    "        frac=height.contents[0].split(\"-\")[1]\n",
    "        QueensSwimmingWomenHeight.append(float(f'{num}.{frac}'))\n",
    "    except:\n",
    "        pass\n",
    "    \n",
    "    \n",
    "names=soup12.find_all(class_=\"sidearm-table-player-name\")\n",
    "for name in names:\n",
    "    try:\n",
    "        QueensSwimmingWomenNames.append(name.contents[1].contents[0])\n",
    "    except:\n",
    "        pass\n",
    "QueensSwimmingWomen=list(zip(QueensSwimmingWomenNames,QueensSwimmingWomenHeight))\n",
    "\n",
    "dfQueensSwimmingWomen = pd.DataFrame (QueensSwimmingWomen, columns = ['Names','Height']) \n",
    "print(dfQueensSwimmingWomen)"
   ]
  },
  {
   "cell_type": "code",
   "execution_count": 206,
   "id": "a51e9acf-0043-447d-a920-253649d61592",
   "metadata": {},
   "outputs": [
    {
     "name": "stdout",
     "output_type": "stream",
     "text": [
      "                   Names  Height\n",
      "0        Ronaldo Barrios    6.20\n",
      "1           Devin Boodha    5.90\n",
      "2           Nikita  Cary    5.80\n",
      "3               Alec Chi    5.10\n",
      "4            Peter Ebert    6.20\n",
      "5        Andwele Estwick    5.11\n",
      "6      Omar Hasan- Hafez    6.10\n",
      "7        Christian Hoyek    6.00\n",
      "8     Konstantin Lomeyko    5.80\n",
      "9        Mark  MacEachen    6.40\n",
      "10            James Rupa    5.10\n",
      "11    Akmalijon Salimov     5.90\n",
      "0          Yair Barrera     5.10\n",
      "1       Nicholas  Blanco    5.11\n",
      "2             Kevin Chen    5.90\n",
      "3       Yousef  Elkhouly    6.30\n",
      "4           Kasper Gacek    6.50\n",
      "5           Gent Gazheli    6.00\n",
      "6            Abdul  Khan    6.20\n",
      "7     Fernando Marroquin    5.80\n",
      "8         Eli Mogorichev    6.00\n",
      "9       Dayan  Ordabayev    5.10\n",
      "10         Jack Ousmanov    6.00\n",
      "11          William Rose    6.20\n",
      "12        Levon Safaryan    5.11\n",
      "13            Ben Sionov    5.60\n",
      "14        Samuel Yakubov    5.80\n",
      "0         Ti’Juan Boothe    5.10\n",
      "1        Jaquan Eleazard    5.11\n",
      "2        Arafath Hussain    5.90\n",
      "3         Anthony Jordan    6.30\n",
      "4        Antonio Josephs    6.50\n",
      "5     Christopher Mendez    6.00\n",
      "6   Anthony Nazario, Jr.    6.20\n",
      "7           Jeremy Sapeg    5.80\n",
      "8          Jamaar Watson    6.00\n",
      "9            Alex Winter    5.10\n"
     ]
    }
   ],
   "source": []
  },
  {
   "cell_type": "code",
   "execution_count": 210,
   "id": "89c22f5e-d058-41d1-ab08-174a0f21a951",
   "metadata": {},
   "outputs": [
    {
     "data": {
      "text/plain": [
       "Height    5.792973\n",
       "dtype: float64"
      ]
     },
     "execution_count": 210,
     "metadata": {},
     "output_type": "execute_result"
    }
   ],
   "source": []
  },
  {
   "cell_type": "code",
   "execution_count": 207,
   "id": "37ab9aa4-bd9a-4805-9c8e-eb7e961d180c",
   "metadata": {},
   "outputs": [
    {
     "name": "stdout",
     "output_type": "stream",
     "text": [
      "                  Names  Height\n",
      "0        Semona Bardman    5.60\n",
      "1  Angella  Christopher    5.70\n",
      "2           Anna Curran    5.30\n",
      "3    Rachel  Davidovich    5.40\n",
      "4   Shenaika Eliassaint    5.11\n",
      "5          Julie  Huang    5.10\n",
      "6      Natalia Mrzyglod    5.50\n",
      "7        Stella  Ryklis    5.60\n",
      "8         Alyssa Taylor    5.90\n",
      "9           Emily  Yang    5.20\n",
      "0     Scarlet Astudillo    5.40\n",
      "1        Maria  Fuentes    5.40\n",
      "2     Joscelyn  Galindo    5.30\n",
      "3           Dea Gazheli    5.30\n",
      "4            Amanda Lee    5.10\n",
      "5         Katherine Lee    5.20\n",
      "6         Jillian Quinn    5.50\n",
      "7          Aanya Shukul    5.90\n",
      "8      Nicole  Tarasiuk    5.70\n",
      "9           Joyce  Wong    5.40\n",
      "0     Rupakshi Aggarwal    5.10\n",
      "1            Asha Besaw    5.40\n",
      "2             Rory Chea    5.30\n",
      "3        Claudia Cimino    5.60\n",
      "4    Laura Cruz Rosario    5.30\n",
      "5       Natalia Cuttler    5.10\n",
      "6         Jillian Etnel    5.80\n",
      "7        Kristen Flores    5.90\n",
      "8           Alexis Hall    5.20\n",
      "9          Bianca Hiltz    4.11\n"
     ]
    }
   ],
   "source": []
  },
  {
   "cell_type": "code",
   "execution_count": 212,
   "id": "d2c140ba-cab2-4447-ad84-63386424d242",
   "metadata": {},
   "outputs": [
    {
     "name": "stdout",
     "output_type": "stream",
     "text": [
      "                   Names  Height\n",
      "0          Snigdho Hasan    5.50\n",
      "1      Michael  Valentin    5.90\n",
      "2          Andres Vargas    6.00\n",
      "3         Jasper Diangco    5.10\n",
      "4        Sayuj Zachariah    6.20\n",
      "5           Omar  Rezika    6.20\n",
      "6         Gabriel Pjatak    6.30\n",
      "7           Ryan  Chabel    5.11\n",
      "8       Utku  Tanritanir    6.00\n",
      "0             QiQin Zeng    5.90\n",
      "1        Andrew Tsororos    6.40\n",
      "2           Steven Lopez    6.00\n",
      "3           Sonam Dorjee    5.10\n",
      "4        Edward Grinberg    6.20\n",
      "5        David Sirchenko    6.30\n",
      "6       Stallone Shankar    6.00\n",
      "7    Rabsang Andrugtsang    5.10\n",
      "8             Hanbin Lee    5.90\n",
      "9           Artem Zinkin    6.50\n",
      "10       Michael Higgins    6.40\n",
      "11      Carlos Rodriguez    6.40\n",
      "12      Leon Petrovitsky    6.50\n",
      "13            Defeng Han    6.10\n",
      "14            Evan Takos    6.30\n",
      "15         Meni Musheyev    6.30\n",
      "16       Justin Iloulian    6.20\n",
      "0             John Vitor    5.60\n",
      "1         Juan Rodriguez    5.60\n",
      "2           Shawn Nemoto    5.70\n",
      "3           Erick Ortega    5.80\n",
      "4            Akil Vaughn    6.50\n",
      "5            Justin Saji    5.10\n",
      "6      Jayden Deokinanan    5.40\n",
      "7        Mambe Koureissi    6.40\n",
      "8   Anthony Nazario, Jr.    5.90\n",
      "9           Olawale Kila    6.40\n",
      "10   David Heyliger, Jr.    6.10\n",
      "11   Guillermo Hernandez    6.40\n",
      "12     Fatmir Glavatovic    6.00\n",
      "13        Ti’Juan Boothe    5.80\n"
     ]
    }
   ],
   "source": [
    "# Men Volley Ball DF\n",
    "mensVolleyDfs=[dfBrooklynVolleyMen,dfBaruchVolleyMen,dfYorkVolleyMen]\n",
    "dfVolleyMen=pd.concat(mensVolleyDfs)\n",
    "print(dfVolleyMen)"
   ]
  },
  {
   "cell_type": "code",
   "execution_count": 213,
   "id": "6178be8c-394b-45cd-9a34-caa6ec28f1b8",
   "metadata": {},
   "outputs": [
    {
     "name": "stdout",
     "output_type": "stream",
     "text": [
      "                       Names  Height\n",
      "0             Inesa Shimcani    5.50\n",
      "1                Ashley Fung    5.70\n",
      "2                 Rain Zhang    5.60\n",
      "3        Yana Shaposhnikova     5.30\n",
      "4                 Ezri  Shor    5.50\n",
      "5              Madison Cronk    5.11\n",
      "6                 Laurie Lee    5.20\n",
      "7           Nohelia  Cedeno     5.80\n",
      "8             Alejandra Chen    5.70\n",
      "9   Savanna Koutsakis-Keener    5.10\n",
      "10            Alanis Guinada    5.40\n",
      "11     Megan Ortiz-Mengedoht    5.10\n",
      "12              Kate Meltsin    5.40\n",
      "0            Fernanda Zamora    5.40\n",
      "1            Mariely Taveras    5.70\n",
      "2            Amina Muminovic    5.60\n",
      "3            Isabella Doring    5.70\n",
      "4                Sarah Chung    5.60\n",
      "5                Young Gi Go    5.00\n",
      "6            Anesa Feratovic    5.80\n",
      "7                  Sofia Tam    5.20\n",
      "8            Julia Perkowski    6.00\n",
      "9             Minami Ebihara    5.30\n",
      "10                   Ada Cao    5.60\n",
      "11       Jaylen Herchenroder    5.30\n",
      "0                Taylor Hunt    5.10\n",
      "1               Amanda Marte    5.70\n",
      "2               Reilly Catan    5.80\n",
      "3               Meghan Smith    5.80\n",
      "4                Faith Harer    6.00\n",
      "5             Paige Sadowitz    6.20\n",
      "6               Rylea Sandel    6.00\n",
      "7            Arnela Radoncic    5.90\n",
      "8           Kristin Gretener    5.60\n",
      "9            Aniko Ouwendijk    5.80\n",
      "10           Gabriella Sloan    5.10\n",
      "11                Erika Hoti    5.80\n",
      "12           Johnelle Pierre    6.10\n",
      "13         Catharine Fleming    5.90\n"
     ]
    }
   ],
   "source": [
    "# Women Volley Ball DF\n",
    "womenVolleyDfs=[dfBrooklynVolleyWomen,dfBaruchVolleyWomen,dfJohnjayVolleyWomen]\n",
    "dfVolleyWomen=pd.concat(womenVolleyDfs)\n",
    "print(dfVolleyWomen)"
   ]
  },
  {
   "cell_type": "code",
   "execution_count": 214,
   "id": "a03145bd-b374-4c83-b853-1380d11a4391",
   "metadata": {},
   "outputs": [
    {
     "name": "stdout",
     "output_type": "stream",
     "text": [
      "                   Names  Height\n",
      "0        Ronaldo Barrios    6.20\n",
      "1           Devin Boodha    5.90\n",
      "2           Nikita  Cary    5.80\n",
      "3               Alec Chi    5.10\n",
      "4            Peter Ebert    6.20\n",
      "5        Andwele Estwick    5.11\n",
      "6      Omar Hasan- Hafez    6.10\n",
      "7        Christian Hoyek    6.00\n",
      "8     Konstantin Lomeyko    5.80\n",
      "9        Mark  MacEachen    6.40\n",
      "10            James Rupa    5.10\n",
      "11    Akmalijon Salimov     5.90\n",
      "0          Yair Barrera     5.10\n",
      "1       Nicholas  Blanco    5.11\n",
      "2             Kevin Chen    5.90\n",
      "3       Yousef  Elkhouly    6.30\n",
      "4           Kasper Gacek    6.50\n",
      "5           Gent Gazheli    6.00\n",
      "6            Abdul  Khan    6.20\n",
      "7     Fernando Marroquin    5.80\n",
      "8         Eli Mogorichev    6.00\n",
      "9       Dayan  Ordabayev    5.10\n",
      "10         Jack Ousmanov    6.00\n",
      "11          William Rose    6.20\n",
      "12        Levon Safaryan    5.11\n",
      "13            Ben Sionov    5.60\n",
      "14        Samuel Yakubov    5.80\n",
      "0         Ti’Juan Boothe    5.10\n",
      "1        Jaquan Eleazard    5.11\n",
      "2        Arafath Hussain    5.90\n",
      "3         Anthony Jordan    6.30\n",
      "4        Antonio Josephs    6.50\n",
      "5     Christopher Mendez    6.00\n",
      "6   Anthony Nazario, Jr.    6.20\n",
      "7           Jeremy Sapeg    5.80\n",
      "8          Jamaar Watson    6.00\n",
      "9            Alex Winter    5.10\n"
     ]
    }
   ],
   "source": [
    "# Mens Swimming DF\n",
    "mensSwimmingDfs=[dfBrooklynSwimmingMen,dfBaruchSwimmingMen,dfYorkSwimmingMen]\n",
    "dfSwimmingMen=pd.concat(mensSwimmingDfs)\n",
    "print(dfSwimmingMen)"
   ]
  },
  {
   "cell_type": "code",
   "execution_count": 215,
   "id": "e0b29c30-60c5-4440-be75-b0519d7ccec2",
   "metadata": {},
   "outputs": [
    {
     "name": "stdout",
     "output_type": "stream",
     "text": [
      "                  Names  Height\n",
      "0        Semona Bardman    5.60\n",
      "1  Angella  Christopher    5.70\n",
      "2           Anna Curran    5.30\n",
      "3    Rachel  Davidovich    5.40\n",
      "4   Shenaika Eliassaint    5.11\n",
      "5          Julie  Huang    5.10\n",
      "6      Natalia Mrzyglod    5.50\n",
      "7        Stella  Ryklis    5.60\n",
      "8         Alyssa Taylor    5.90\n",
      "9           Emily  Yang    5.20\n",
      "0     Scarlet Astudillo    5.40\n",
      "1        Maria  Fuentes    5.40\n",
      "2     Joscelyn  Galindo    5.30\n",
      "3           Dea Gazheli    5.30\n",
      "4            Amanda Lee    5.10\n",
      "5         Katherine Lee    5.20\n",
      "6         Jillian Quinn    5.50\n",
      "7          Aanya Shukul    5.90\n",
      "8      Nicole  Tarasiuk    5.70\n",
      "9           Joyce  Wong    5.40\n",
      "0     Rupakshi Aggarwal    5.10\n",
      "1            Asha Besaw    5.40\n",
      "2             Rory Chea    5.30\n",
      "3        Claudia Cimino    5.60\n",
      "4    Laura Cruz Rosario    5.30\n",
      "5       Natalia Cuttler    5.10\n",
      "6         Jillian Etnel    5.80\n",
      "7        Kristen Flores    5.90\n",
      "8           Alexis Hall    5.20\n",
      "9          Bianca Hiltz    4.11\n"
     ]
    }
   ],
   "source": [
    "# Women Swimming DF\n",
    "womenSwimmingDfs=[dfBrooklynSwimmingWomen,dfBaruchSwimmingWomen,dfQueensSwimmingWomen]\n",
    "dfSwimmingWomen=pd.concat(womenSwimmingDfs)\n",
    "print(dfSwimmingWomen)"
   ]
  },
  {
   "cell_type": "code",
   "execution_count": 216,
   "id": "3d06050f-8c05-435d-8e34-aa8ae1578c9f",
   "metadata": {},
   "outputs": [
    {
     "data": {
      "text/plain": [
       "Height    5.96525\n",
       "dtype: float64"
      ]
     },
     "execution_count": 216,
     "metadata": {},
     "output_type": "execute_result"
    }
   ],
   "source": [
    "# Men Volley Ball Average\n",
    "dfVolleyMen.mean()"
   ]
  },
  {
   "cell_type": "code",
   "execution_count": 217,
   "id": "6f7915da-29c7-43dd-aa9e-4241f742f9f7",
   "metadata": {},
   "outputs": [
    {
     "data": {
      "text/plain": [
       "Height    5.574615\n",
       "dtype: float64"
      ]
     },
     "execution_count": 217,
     "metadata": {},
     "output_type": "execute_result"
    }
   ],
   "source": [
    "# Women Volley Ball Average\n",
    "dfVolleyWomen.mean()"
   ]
  },
  {
   "cell_type": "code",
   "execution_count": 218,
   "id": "e04a2dc6-ae91-43c3-96d3-f55775913c75",
   "metadata": {},
   "outputs": [
    {
     "data": {
      "text/plain": [
       "Height    5.792973\n",
       "dtype: float64"
      ]
     },
     "execution_count": 218,
     "metadata": {},
     "output_type": "execute_result"
    }
   ],
   "source": [
    "# Men Swimming Average\n",
    "dfSwimmingMen.mean()"
   ]
  },
  {
   "cell_type": "code",
   "execution_count": 219,
   "id": "a3d6f9d1-5ff2-433a-9c30-440e307912d6",
   "metadata": {},
   "outputs": [
    {
     "data": {
      "text/plain": [
       "Height    5.380667\n",
       "dtype: float64"
      ]
     },
     "execution_count": 219,
     "metadata": {},
     "output_type": "execute_result"
    }
   ],
   "source": [
    "# Women Swimming Average\n",
    "dfSwimmingWomen.mean()"
   ]
  },
  {
   "cell_type": "code",
   "execution_count": 220,
   "id": "afd282ba-c759-4c2f-9ca1-5d561b61030d",
   "metadata": {},
   "outputs": [
    {
     "data": {
      "text/html": [
       "<div>\n",
       "<style scoped>\n",
       "    .dataframe tbody tr th:only-of-type {\n",
       "        vertical-align: middle;\n",
       "    }\n",
       "\n",
       "    .dataframe tbody tr th {\n",
       "        vertical-align: top;\n",
       "    }\n",
       "\n",
       "    .dataframe thead th {\n",
       "        text-align: right;\n",
       "    }\n",
       "</style>\n",
       "<table border=\"1\" class=\"dataframe\">\n",
       "  <thead>\n",
       "    <tr style=\"text-align: right;\">\n",
       "      <th></th>\n",
       "      <th>Names</th>\n",
       "      <th>Height</th>\n",
       "    </tr>\n",
       "  </thead>\n",
       "  <tbody>\n",
       "    <tr>\n",
       "      <th>9</th>\n",
       "      <td>Artem Zinkin</td>\n",
       "      <td>6.5</td>\n",
       "    </tr>\n",
       "    <tr>\n",
       "      <th>12</th>\n",
       "      <td>Leon Petrovitsky</td>\n",
       "      <td>6.5</td>\n",
       "    </tr>\n",
       "    <tr>\n",
       "      <th>4</th>\n",
       "      <td>Akil Vaughn</td>\n",
       "      <td>6.5</td>\n",
       "    </tr>\n",
       "    <tr>\n",
       "      <th>1</th>\n",
       "      <td>Andrew Tsororos</td>\n",
       "      <td>6.4</td>\n",
       "    </tr>\n",
       "    <tr>\n",
       "      <th>10</th>\n",
       "      <td>Michael Higgins</td>\n",
       "      <td>6.4</td>\n",
       "    </tr>\n",
       "  </tbody>\n",
       "</table>\n",
       "</div>"
      ],
      "text/plain": [
       "               Names  Height\n",
       "9       Artem Zinkin     6.5\n",
       "12  Leon Petrovitsky     6.5\n",
       "4        Akil Vaughn     6.5\n",
       "1    Andrew Tsororos     6.4\n",
       "10   Michael Higgins     6.4"
      ]
     },
     "execution_count": 220,
     "metadata": {},
     "output_type": "execute_result"
    }
   ],
   "source": [
    "# Top 5 tallest men Volley Ball\n",
    "dfVolleyMen.nlargest(5, 'Height')"
   ]
  },
  {
   "cell_type": "code",
   "execution_count": 221,
   "id": "402a17db-c944-4587-bba0-eb0d8712bab3",
   "metadata": {},
   "outputs": [
    {
     "data": {
      "text/html": [
       "<div>\n",
       "<style scoped>\n",
       "    .dataframe tbody tr th:only-of-type {\n",
       "        vertical-align: middle;\n",
       "    }\n",
       "\n",
       "    .dataframe tbody tr th {\n",
       "        vertical-align: top;\n",
       "    }\n",
       "\n",
       "    .dataframe thead th {\n",
       "        text-align: right;\n",
       "    }\n",
       "</style>\n",
       "<table border=\"1\" class=\"dataframe\">\n",
       "  <thead>\n",
       "    <tr style=\"text-align: right;\">\n",
       "      <th></th>\n",
       "      <th>Names</th>\n",
       "      <th>Height</th>\n",
       "    </tr>\n",
       "  </thead>\n",
       "  <tbody>\n",
       "    <tr>\n",
       "      <th>3</th>\n",
       "      <td>Jasper Diangco</td>\n",
       "      <td>5.10</td>\n",
       "    </tr>\n",
       "    <tr>\n",
       "      <th>3</th>\n",
       "      <td>Sonam Dorjee</td>\n",
       "      <td>5.10</td>\n",
       "    </tr>\n",
       "    <tr>\n",
       "      <th>7</th>\n",
       "      <td>Rabsang Andrugtsang</td>\n",
       "      <td>5.10</td>\n",
       "    </tr>\n",
       "    <tr>\n",
       "      <th>5</th>\n",
       "      <td>Justin Saji</td>\n",
       "      <td>5.10</td>\n",
       "    </tr>\n",
       "    <tr>\n",
       "      <th>7</th>\n",
       "      <td>Ryan  Chabel</td>\n",
       "      <td>5.11</td>\n",
       "    </tr>\n",
       "  </tbody>\n",
       "</table>\n",
       "</div>"
      ],
      "text/plain": [
       "                 Names  Height\n",
       "3       Jasper Diangco    5.10\n",
       "3         Sonam Dorjee    5.10\n",
       "7  Rabsang Andrugtsang    5.10\n",
       "5          Justin Saji    5.10\n",
       "7         Ryan  Chabel    5.11"
      ]
     },
     "execution_count": 221,
     "metadata": {},
     "output_type": "execute_result"
    }
   ],
   "source": [
    "# Top 5 shortest men Volley Ball\n",
    "dfVolleyMen.nsmallest(5, 'Height')"
   ]
  },
  {
   "cell_type": "code",
   "execution_count": 222,
   "id": "4c44ec59-b04e-4aaf-a24e-f4bb5b8fabd1",
   "metadata": {},
   "outputs": [
    {
     "data": {
      "text/html": [
       "<div>\n",
       "<style scoped>\n",
       "    .dataframe tbody tr th:only-of-type {\n",
       "        vertical-align: middle;\n",
       "    }\n",
       "\n",
       "    .dataframe tbody tr th {\n",
       "        vertical-align: top;\n",
       "    }\n",
       "\n",
       "    .dataframe thead th {\n",
       "        text-align: right;\n",
       "    }\n",
       "</style>\n",
       "<table border=\"1\" class=\"dataframe\">\n",
       "  <thead>\n",
       "    <tr style=\"text-align: right;\">\n",
       "      <th></th>\n",
       "      <th>Names</th>\n",
       "      <th>Height</th>\n",
       "    </tr>\n",
       "  </thead>\n",
       "  <tbody>\n",
       "    <tr>\n",
       "      <th>5</th>\n",
       "      <td>Paige Sadowitz</td>\n",
       "      <td>6.2</td>\n",
       "    </tr>\n",
       "    <tr>\n",
       "      <th>12</th>\n",
       "      <td>Johnelle Pierre</td>\n",
       "      <td>6.1</td>\n",
       "    </tr>\n",
       "    <tr>\n",
       "      <th>8</th>\n",
       "      <td>Julia Perkowski</td>\n",
       "      <td>6.0</td>\n",
       "    </tr>\n",
       "    <tr>\n",
       "      <th>4</th>\n",
       "      <td>Faith Harer</td>\n",
       "      <td>6.0</td>\n",
       "    </tr>\n",
       "    <tr>\n",
       "      <th>6</th>\n",
       "      <td>Rylea Sandel</td>\n",
       "      <td>6.0</td>\n",
       "    </tr>\n",
       "  </tbody>\n",
       "</table>\n",
       "</div>"
      ],
      "text/plain": [
       "              Names  Height\n",
       "5    Paige Sadowitz     6.2\n",
       "12  Johnelle Pierre     6.1\n",
       "8   Julia Perkowski     6.0\n",
       "4       Faith Harer     6.0\n",
       "6      Rylea Sandel     6.0"
      ]
     },
     "execution_count": 222,
     "metadata": {},
     "output_type": "execute_result"
    }
   ],
   "source": [
    "# Top 5 tallest women Volley Ball\n",
    "dfVolleyWomen.nlargest(5, 'Height')"
   ]
  },
  {
   "cell_type": "code",
   "execution_count": 224,
   "id": "89add3f3-86e8-4513-bad1-524a33b846dc",
   "metadata": {},
   "outputs": [
    {
     "data": {
      "text/html": [
       "<div>\n",
       "<style scoped>\n",
       "    .dataframe tbody tr th:only-of-type {\n",
       "        vertical-align: middle;\n",
       "    }\n",
       "\n",
       "    .dataframe tbody tr th {\n",
       "        vertical-align: top;\n",
       "    }\n",
       "\n",
       "    .dataframe thead th {\n",
       "        text-align: right;\n",
       "    }\n",
       "</style>\n",
       "<table border=\"1\" class=\"dataframe\">\n",
       "  <thead>\n",
       "    <tr style=\"text-align: right;\">\n",
       "      <th></th>\n",
       "      <th>Names</th>\n",
       "      <th>Height</th>\n",
       "    </tr>\n",
       "  </thead>\n",
       "  <tbody>\n",
       "    <tr>\n",
       "      <th>5</th>\n",
       "      <td>Young Gi Go</td>\n",
       "      <td>5.0</td>\n",
       "    </tr>\n",
       "    <tr>\n",
       "      <th>9</th>\n",
       "      <td>Savanna Koutsakis-Keener</td>\n",
       "      <td>5.1</td>\n",
       "    </tr>\n",
       "    <tr>\n",
       "      <th>11</th>\n",
       "      <td>Megan Ortiz-Mengedoht</td>\n",
       "      <td>5.1</td>\n",
       "    </tr>\n",
       "    <tr>\n",
       "      <th>0</th>\n",
       "      <td>Taylor Hunt</td>\n",
       "      <td>5.1</td>\n",
       "    </tr>\n",
       "    <tr>\n",
       "      <th>10</th>\n",
       "      <td>Gabriella Sloan</td>\n",
       "      <td>5.1</td>\n",
       "    </tr>\n",
       "  </tbody>\n",
       "</table>\n",
       "</div>"
      ],
      "text/plain": [
       "                       Names  Height\n",
       "5                Young Gi Go     5.0\n",
       "9   Savanna Koutsakis-Keener     5.1\n",
       "11     Megan Ortiz-Mengedoht     5.1\n",
       "0                Taylor Hunt     5.1\n",
       "10           Gabriella Sloan     5.1"
      ]
     },
     "execution_count": 224,
     "metadata": {},
     "output_type": "execute_result"
    }
   ],
   "source": [
    "# Top 5 shortest women Volley Ball\n",
    "dfVolleyWomen.nsmallest(5, 'Height')"
   ]
  },
  {
   "cell_type": "code",
   "execution_count": 225,
   "id": "b25f2165-1527-4245-b510-168ea66639ec",
   "metadata": {},
   "outputs": [
    {
     "data": {
      "text/html": [
       "<div>\n",
       "<style scoped>\n",
       "    .dataframe tbody tr th:only-of-type {\n",
       "        vertical-align: middle;\n",
       "    }\n",
       "\n",
       "    .dataframe tbody tr th {\n",
       "        vertical-align: top;\n",
       "    }\n",
       "\n",
       "    .dataframe thead th {\n",
       "        text-align: right;\n",
       "    }\n",
       "</style>\n",
       "<table border=\"1\" class=\"dataframe\">\n",
       "  <thead>\n",
       "    <tr style=\"text-align: right;\">\n",
       "      <th></th>\n",
       "      <th>Names</th>\n",
       "      <th>Height</th>\n",
       "    </tr>\n",
       "  </thead>\n",
       "  <tbody>\n",
       "    <tr>\n",
       "      <th>4</th>\n",
       "      <td>Kasper Gacek</td>\n",
       "      <td>6.5</td>\n",
       "    </tr>\n",
       "    <tr>\n",
       "      <th>4</th>\n",
       "      <td>Antonio Josephs</td>\n",
       "      <td>6.5</td>\n",
       "    </tr>\n",
       "    <tr>\n",
       "      <th>9</th>\n",
       "      <td>Mark  MacEachen</td>\n",
       "      <td>6.4</td>\n",
       "    </tr>\n",
       "    <tr>\n",
       "      <th>3</th>\n",
       "      <td>Yousef  Elkhouly</td>\n",
       "      <td>6.3</td>\n",
       "    </tr>\n",
       "    <tr>\n",
       "      <th>3</th>\n",
       "      <td>Anthony Jordan</td>\n",
       "      <td>6.3</td>\n",
       "    </tr>\n",
       "  </tbody>\n",
       "</table>\n",
       "</div>"
      ],
      "text/plain": [
       "              Names  Height\n",
       "4      Kasper Gacek     6.5\n",
       "4   Antonio Josephs     6.5\n",
       "9   Mark  MacEachen     6.4\n",
       "3  Yousef  Elkhouly     6.3\n",
       "3    Anthony Jordan     6.3"
      ]
     },
     "execution_count": 225,
     "metadata": {},
     "output_type": "execute_result"
    }
   ],
   "source": [
    "# Top 5 tallest men Swimmer\n",
    "dfSwimmingMen.nlargest(5, 'Height')"
   ]
  },
  {
   "cell_type": "code",
   "execution_count": 227,
   "id": "5867f387-dc15-4d84-a971-efd5ed7a4395",
   "metadata": {},
   "outputs": [
    {
     "data": {
      "text/html": [
       "<div>\n",
       "<style scoped>\n",
       "    .dataframe tbody tr th:only-of-type {\n",
       "        vertical-align: middle;\n",
       "    }\n",
       "\n",
       "    .dataframe tbody tr th {\n",
       "        vertical-align: top;\n",
       "    }\n",
       "\n",
       "    .dataframe thead th {\n",
       "        text-align: right;\n",
       "    }\n",
       "</style>\n",
       "<table border=\"1\" class=\"dataframe\">\n",
       "  <thead>\n",
       "    <tr style=\"text-align: right;\">\n",
       "      <th></th>\n",
       "      <th>Names</th>\n",
       "      <th>Height</th>\n",
       "    </tr>\n",
       "  </thead>\n",
       "  <tbody>\n",
       "    <tr>\n",
       "      <th>3</th>\n",
       "      <td>Alec Chi</td>\n",
       "      <td>5.1</td>\n",
       "    </tr>\n",
       "    <tr>\n",
       "      <th>10</th>\n",
       "      <td>James Rupa</td>\n",
       "      <td>5.1</td>\n",
       "    </tr>\n",
       "    <tr>\n",
       "      <th>0</th>\n",
       "      <td>Yair Barrera</td>\n",
       "      <td>5.1</td>\n",
       "    </tr>\n",
       "    <tr>\n",
       "      <th>9</th>\n",
       "      <td>Dayan  Ordabayev</td>\n",
       "      <td>5.1</td>\n",
       "    </tr>\n",
       "    <tr>\n",
       "      <th>0</th>\n",
       "      <td>Ti’Juan Boothe</td>\n",
       "      <td>5.1</td>\n",
       "    </tr>\n",
       "  </tbody>\n",
       "</table>\n",
       "</div>"
      ],
      "text/plain": [
       "               Names  Height\n",
       "3           Alec Chi     5.1\n",
       "10        James Rupa     5.1\n",
       "0      Yair Barrera      5.1\n",
       "9   Dayan  Ordabayev     5.1\n",
       "0     Ti’Juan Boothe     5.1"
      ]
     },
     "execution_count": 227,
     "metadata": {},
     "output_type": "execute_result"
    }
   ],
   "source": [
    "# Top 5 shortest men Swimmers\n",
    "dfSwimmingMen.nsmallest(5, 'Height')"
   ]
  },
  {
   "cell_type": "code",
   "execution_count": 228,
   "id": "1cdb0858-81c6-47eb-95c7-4bc096bb95be",
   "metadata": {},
   "outputs": [
    {
     "data": {
      "text/html": [
       "<div>\n",
       "<style scoped>\n",
       "    .dataframe tbody tr th:only-of-type {\n",
       "        vertical-align: middle;\n",
       "    }\n",
       "\n",
       "    .dataframe tbody tr th {\n",
       "        vertical-align: top;\n",
       "    }\n",
       "\n",
       "    .dataframe thead th {\n",
       "        text-align: right;\n",
       "    }\n",
       "</style>\n",
       "<table border=\"1\" class=\"dataframe\">\n",
       "  <thead>\n",
       "    <tr style=\"text-align: right;\">\n",
       "      <th></th>\n",
       "      <th>Names</th>\n",
       "      <th>Height</th>\n",
       "    </tr>\n",
       "  </thead>\n",
       "  <tbody>\n",
       "    <tr>\n",
       "      <th>8</th>\n",
       "      <td>Alyssa Taylor</td>\n",
       "      <td>5.9</td>\n",
       "    </tr>\n",
       "    <tr>\n",
       "      <th>7</th>\n",
       "      <td>Aanya Shukul</td>\n",
       "      <td>5.9</td>\n",
       "    </tr>\n",
       "    <tr>\n",
       "      <th>7</th>\n",
       "      <td>Kristen Flores</td>\n",
       "      <td>5.9</td>\n",
       "    </tr>\n",
       "    <tr>\n",
       "      <th>6</th>\n",
       "      <td>Jillian Etnel</td>\n",
       "      <td>5.8</td>\n",
       "    </tr>\n",
       "    <tr>\n",
       "      <th>1</th>\n",
       "      <td>Angella  Christopher</td>\n",
       "      <td>5.7</td>\n",
       "    </tr>\n",
       "  </tbody>\n",
       "</table>\n",
       "</div>"
      ],
      "text/plain": [
       "                  Names  Height\n",
       "8         Alyssa Taylor     5.9\n",
       "7          Aanya Shukul     5.9\n",
       "7        Kristen Flores     5.9\n",
       "6         Jillian Etnel     5.8\n",
       "1  Angella  Christopher     5.7"
      ]
     },
     "execution_count": 228,
     "metadata": {},
     "output_type": "execute_result"
    }
   ],
   "source": [
    "# Top 5 tallest women swimmers\n",
    "dfSwimmingWomen.nlargest(5, 'Height')"
   ]
  },
  {
   "cell_type": "code",
   "execution_count": 229,
   "id": "27d699a9-7c59-4f49-9c35-24a9333b3899",
   "metadata": {},
   "outputs": [
    {
     "data": {
      "text/html": [
       "<div>\n",
       "<style scoped>\n",
       "    .dataframe tbody tr th:only-of-type {\n",
       "        vertical-align: middle;\n",
       "    }\n",
       "\n",
       "    .dataframe tbody tr th {\n",
       "        vertical-align: top;\n",
       "    }\n",
       "\n",
       "    .dataframe thead th {\n",
       "        text-align: right;\n",
       "    }\n",
       "</style>\n",
       "<table border=\"1\" class=\"dataframe\">\n",
       "  <thead>\n",
       "    <tr style=\"text-align: right;\">\n",
       "      <th></th>\n",
       "      <th>Names</th>\n",
       "      <th>Height</th>\n",
       "    </tr>\n",
       "  </thead>\n",
       "  <tbody>\n",
       "    <tr>\n",
       "      <th>9</th>\n",
       "      <td>Bianca Hiltz</td>\n",
       "      <td>4.11</td>\n",
       "    </tr>\n",
       "    <tr>\n",
       "      <th>5</th>\n",
       "      <td>Julie  Huang</td>\n",
       "      <td>5.10</td>\n",
       "    </tr>\n",
       "    <tr>\n",
       "      <th>4</th>\n",
       "      <td>Amanda Lee</td>\n",
       "      <td>5.10</td>\n",
       "    </tr>\n",
       "    <tr>\n",
       "      <th>0</th>\n",
       "      <td>Rupakshi Aggarwal</td>\n",
       "      <td>5.10</td>\n",
       "    </tr>\n",
       "    <tr>\n",
       "      <th>5</th>\n",
       "      <td>Natalia Cuttler</td>\n",
       "      <td>5.10</td>\n",
       "    </tr>\n",
       "  </tbody>\n",
       "</table>\n",
       "</div>"
      ],
      "text/plain": [
       "               Names  Height\n",
       "9       Bianca Hiltz    4.11\n",
       "5       Julie  Huang    5.10\n",
       "4         Amanda Lee    5.10\n",
       "0  Rupakshi Aggarwal    5.10\n",
       "5    Natalia Cuttler    5.10"
      ]
     },
     "execution_count": 229,
     "metadata": {},
     "output_type": "execute_result"
    }
   ],
   "source": [
    "# Top 5 shortest women swimmers\n",
    "dfSwimmingWomen.nsmallest(5, 'Height')"
   ]
  }
 ],
 "metadata": {
  "kernelspec": {
   "display_name": "Python 3",
   "language": "python",
   "name": "python3"
  },
  "language_info": {
   "codemirror_mode": {
    "name": "ipython",
    "version": 3
   },
   "file_extension": ".py",
   "mimetype": "text/x-python",
   "name": "python",
   "nbconvert_exporter": "python",
   "pygments_lexer": "ipython3",
   "version": "3.8.8"
  }
 },
 "nbformat": 4,
 "nbformat_minor": 5
}
